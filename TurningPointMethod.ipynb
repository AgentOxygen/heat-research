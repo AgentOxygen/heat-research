{
 "cells": [
  {
   "cell_type": "code",
   "execution_count": 10,
   "id": "21256d6f-5484-4339-a02a-a8fccca8f669",
   "metadata": {},
   "outputs": [],
   "source": [
    "from paths import aod_vis_xaer_download, DIR_PATH, aod_vis_xaer_concatenated, aod_vis_all_concatenated\n",
    "import xarray\n",
    "import matplotlib.pyplot as plt\n",
    "import cartopy.crs as ccrs\n",
    "from matplotlib import colors\n",
    "from matplotlib import rc\n",
    "\n",
    "all_aod = xarray.open_mfdataset(aod_vis_all_concatenated(), combine='nested', concat_dim=\"member\")[\"AODVIS\"].groupby(\"time.year\").mean().load()\n",
    "xaer_aod = xarray.open_mfdataset(aod_vis_xaer_concatenated(), combine='nested', concat_dim=\"member\")[\"AODVIS\"].load()\n",
    "aod_ds = all_aod - xaer_aod"
   ]
  },
  {
   "cell_type": "code",
   "execution_count": 11,
   "id": "2cb9a5cc-f0c3-45af-83e1-7f9a8a69844c",
   "metadata": {},
   "outputs": [
    {
     "data": {
      "text/plain": [
       "array([-1.11423620e-06,  4.44428194e-03, -4.42602717e+00])"
      ]
     },
     "execution_count": 11,
     "metadata": {},
     "output_type": "execute_result"
    }
   ],
   "source": [
    "aod_ds.mean(dim=\"lon\").mean(dim=\"lat\").mean(dim=\"member\").polyfit(dim=\"year\", deg=2)[\"polyfit_coefficients\"].values"
   ]
  },
  {
   "cell_type": "markdown",
   "id": "eda7d09e-3bbf-43ad-95b4-6d906660f774",
   "metadata": {},
   "source": [
    "Regression for ALL-XAER=AER AODVIS --> f(x) = 0.000001114236 x^2 + 0.004426 x - 4.426\n",
    "\n",
    "f'(x) = 0.000001114236 * 2 * x + 0.004426\n",
    "   --> f'(x) = 0 --> x = \n"
   ]
  },
  {
   "cell_type": "code",
   "execution_count": 13,
   "id": "1a66e4b9-f329-4903-8b90-af578306ed6a",
   "metadata": {},
   "outputs": [
    {
     "data": {
      "text/plain": [
       "-1986.1142522768967"
      ]
     },
     "execution_count": 13,
     "metadata": {},
     "output_type": "execute_result"
    }
   ],
   "source": [
    "-0.004426 / (0.000001114236 * 2)"
   ]
  },
  {
   "cell_type": "code",
   "execution_count": 26,
   "id": "f4feb8b5-d958-4d53-a7b3-33a327932e1e",
   "metadata": {},
   "outputs": [
    {
     "name": "stdout",
     "output_type": "stream",
     "text": [
      "2005.7483959395788\n"
     ]
    }
   ],
   "source": [
    "from paths import heat_out_trefht_tmin_members_1920_1950_CONTROL as tmin, heat_out_trefht_tmax_members_1920_1950_CONTROL as tmax, land_mask\n",
    "from paths import population_weighted_tmin_heat_outputs as ptmin, population_2020_aggregated\n",
    "import xarray\n",
    "\n",
    "exp_num = \"3136\"\n",
    "var = \"HWF\"\n",
    "\n",
    "#Mask for land\n",
    "landmask = xarray.open_dataset(land_mask())[\"__xarray_dataarray_variable__\"].load()\n",
    "\n",
    "all_min, xghg_min, xaer_min = tmin()\n",
    "all_un_hwf = xarray.open_mfdataset([path for path in all_min if exp_num in path], concat_dim=\"member\", combine=\"nested\")[f\"{var}_tn90\"].dt.days.sel(time=slice(1930, 2080)).mean(dim=\"lat\").mean(dim=\"lon\").load()\n",
    "xaer_un_hwf = xarray.open_mfdataset([path for path in xaer_min if exp_num in path], concat_dim=\"member\", combine=\"nested\")[f\"{var}_tn90\"].dt.days.sel(time=slice(1930, 2080)).mean(dim=\"lat\").mean(dim=\"lon\").load()\n",
    "aer_un_hwf = all_un_hwf - xaer_un_hwf\n",
    "\n",
    "poly_coeff = aer_un_hwf.mean(dim=\"member\").polyfit(dim=\"time\", deg=2)[\"polyfit_coefficients\"].values\n",
    "turning_point = -1 * poly_coeff[1] / (poly_coeff[0] * 2)\n",
    "print(turning_point)"
   ]
  },
  {
   "cell_type": "code",
   "execution_count": 30,
   "id": "75d13644-73fc-413d-a86e-be111ff6d5fe",
   "metadata": {},
   "outputs": [
    {
     "name": "stdout",
     "output_type": "stream",
     "text": [
      "2003.2674769382008\n"
     ]
    }
   ],
   "source": [
    "poly_coeff = aer_un_hwf.min(dim=\"member\").polyfit(dim=\"time\", deg=2)[\"polyfit_coefficients\"].values\n",
    "turning_point = -1 * poly_coeff[1] / (poly_coeff[0] * 2)\n",
    "print(turning_point)"
   ]
  },
  {
   "cell_type": "code",
   "execution_count": 31,
   "id": "138d2161-91e7-4aad-bd9b-0d6c119bb80e",
   "metadata": {},
   "outputs": [
    {
     "name": "stdout",
     "output_type": "stream",
     "text": [
      "2014.4367021649573\n"
     ]
    }
   ],
   "source": [
    "poly_coeff = aer_un_hwf.max(dim=\"member\").polyfit(dim=\"time\", deg=2)[\"polyfit_coefficients\"].values\n",
    "turning_point = -1 * poly_coeff[1] / (poly_coeff[0] * 2)\n",
    "print(turning_point)"
   ]
  }
 ],
 "metadata": {
  "kernelspec": {
   "display_name": "Python 3 (ipykernel)",
   "language": "python",
   "name": "python3"
  },
  "language_info": {
   "codemirror_mode": {
    "name": "ipython",
    "version": 3
   },
   "file_extension": ".py",
   "mimetype": "text/x-python",
   "name": "python",
   "nbconvert_exporter": "python",
   "pygments_lexer": "ipython3",
   "version": "3.10.5"
  }
 },
 "nbformat": 4,
 "nbformat_minor": 5
}
