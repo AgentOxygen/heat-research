{
 "cells": [
  {
   "cell_type": "code",
   "execution_count": 22,
   "id": "0648bbd8-f021-4ba2-b93e-eec7cf4237ad",
   "metadata": {},
   "outputs": [],
   "source": [
    "import analysis\n",
    "import paths\n",
    "import xarray\n",
    "import numpy as np\n",
    "import cProfile, pstats, io\n",
    "from pstats import SortKey\n",
    "import time"
   ]
  },
  {
   "cell_type": "code",
   "execution_count": 2,
   "id": "2a066647-fdc6-43bc-b96d-743e713b4aa3",
   "metadata": {},
   "outputs": [],
   "source": [
    "tminfile = paths.trefhtmn_members()[0][0]\n",
    "tmaxfile = paths.trefhtmx_members()[0][0]\n",
    "thresfile = paths.thresholds_members_1920_1950()[0][0]"
   ]
  },
  {
   "cell_type": "code",
   "execution_count": 30,
   "id": "f49136b1-2c93-4b42-92b8-528be298cb51",
   "metadata": {},
   "outputs": [
    {
     "name": "stdout",
     "output_type": "stream",
     "text": [
      "Copy method: 0.41186280082911253\n"
     ]
    }
   ],
   "source": [
    "start = time.perf_counter()\n",
    "x1 = np.zeros((500, 500, 120))\n",
    "x2 = x1.copy()\n",
    "x3 = x1.copy()\n",
    "delta = time.perf_counter() - start\n",
    "print(f\"Copy method: {delta}\")\n",
    "\n",
    "\n",
    "\n",
    "\n",
    "\n"
   ]
  },
  {
   "cell_type": "code",
   "execution_count": 24,
   "id": "58f07b5a-cb6d-4bc3-a21d-4be1393435d1",
   "metadata": {},
   "outputs": [
    {
     "data": {
      "text/plain": [
       "0.00024289824068546295"
      ]
     },
     "execution_count": 24,
     "metadata": {},
     "output_type": "execute_result"
    }
   ],
   "source": [
    "delta"
   ]
  }
 ],
 "metadata": {
  "kernelspec": {
   "display_name": "Python 3",
   "language": "python",
   "name": "python3"
  },
  "language_info": {
   "codemirror_mode": {
    "name": "ipython",
    "version": 3
   },
   "file_extension": ".py",
   "mimetype": "text/x-python",
   "name": "python",
   "nbconvert_exporter": "python",
   "pygments_lexer": "ipython3",
   "version": "3.8.5"
  }
 },
 "nbformat": 4,
 "nbformat_minor": 5
}
