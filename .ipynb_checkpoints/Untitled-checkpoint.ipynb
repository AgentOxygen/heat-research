{
 "cells": [
  {
   "cell_type": "code",
   "execution_count": 1,
   "id": "0648bbd8-f021-4ba2-b93e-eec7cf4237ad",
   "metadata": {},
   "outputs": [],
   "source": [
    "import analysis\n",
    "import paths\n",
    "import xarray\n",
    "import build\n",
    "import cftime"
   ]
  },
  {
   "cell_type": "code",
   "execution_count": 2,
   "id": "2822bdae-708f-4f4e-8aa9-42a506e12a21",
   "metadata": {},
   "outputs": [],
   "source": [
    "control_path = paths.control_trefht_download()[2]\n",
    "#control_path = paths.trefht_members()[0][2]"
   ]
  },
  {
   "cell_type": "code",
   "execution_count": 3,
   "id": "824325af-546a-40f6-a8a6-704754c701d0",
   "metadata": {},
   "outputs": [
    {
     "name": "stdout",
     "output_type": "stream",
     "text": [
      "You didn't specify a land-sea mask. It's faster if you do,so this might take a while.\n",
      "1920-1950\n",
      "365 Day Calendar\n",
      "No-leap calendar\n",
      "Period Range without leap\n",
      "Base: PeriodIndex(['1920-01-01', '1920-01-02', '1920-01-03', '1920-01-04',\n",
      "             '1920-01-05', '1920-01-06', '1920-01-07', '1920-01-08',\n",
      "             '1920-01-09', '1920-01-10',\n",
      "             ...\n",
      "             '1950-12-22', '1950-12-23', '1950-12-24', '1950-12-25',\n",
      "             '1950-12-26', '1950-12-27', '1950-12-28', '1950-12-29',\n",
      "             '1950-12-30', '1950-12-31'],\n",
      "            dtype='period[D]', length=11315)\n",
      "Calculating 90th percentile...\n",
      "Saving yearly EXP txn90pct\n"
     ]
    },
    {
     "data": {
      "text/plain": [
       "True"
      ]
     },
     "execution_count": 3,
     "metadata": {},
     "output_type": "execute_result"
    }
   ],
   "source": [
    "analysis.calculate_thresholds(paths.DIR_PATH + \"thresholds/CONTROL/control_threshold.nc\", control_path, \"TREFHT\", control_path, \"TREFHT\", bp=\"1920-1950\")"
   ]
  }
 ],
 "metadata": {
  "kernelspec": {
   "display_name": "Python 3",
   "language": "python",
   "name": "python3"
  },
  "language_info": {
   "codemirror_mode": {
    "name": "ipython",
    "version": 3
   },
   "file_extension": ".py",
   "mimetype": "text/x-python",
   "name": "python",
   "nbconvert_exporter": "python",
   "pygments_lexer": "ipython3",
   "version": "3.8.10"
  }
 },
 "nbformat": 4,
 "nbformat_minor": 5
}
